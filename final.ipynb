{
 "cells": [
  {
   "cell_type": "markdown",
   "metadata": {},
   "source": [
    "**Linear regression:** https://www.kaggle.com/datasets/nehalbirla/vehicle-dataset-from-cardekho \n",
    "\n",
    "**Logistic regression:** https://www.kaggle.com/datasets/uciml/red-wine-quality-cortez-et-al-2009/code \n",
    "\n",
    "**Neural network:** https://www.kaggle.com/competitions/titanic/overview \n",
    "\n",
    "**K-Means:** https://www.kaggle.com/datasets/camnugent/california-housing-prices "
   ]
  },
  {
   "cell_type": "code",
   "execution_count": 2,
   "metadata": {},
   "outputs": [],
   "source": [
    "# Imports\n",
    "import numpy as np\n",
    "import matplotlib.pyplot as plt\n",
    "import random as rd"
   ]
  },
  {
   "cell_type": "markdown",
   "metadata": {},
   "source": [
    "## 1- Linear Regression\n",
    "\n",
    "**Linear Regression** is a fundamental statistical and machine learning technique used for modeling the relationship between a *dependent* variable (also called the target or outcome) and one or more *independent* variables (also called predictors or features).\n",
    "\n",
    "It assumes a linear relationship between the variables and aims to find the best-fitting linear equation that can predict the dependent variable based on the values of the independent variables.\n"
   ]
  }
 ],
 "metadata": {
  "kernelspec": {
   "display_name": "Python 3",
   "language": "python",
   "name": "python3"
  },
  "language_info": {
   "codemirror_mode": {
    "name": "ipython",
    "version": 3
   },
   "file_extension": ".py",
   "mimetype": "text/x-python",
   "name": "python",
   "nbconvert_exporter": "python",
   "pygments_lexer": "ipython3",
   "version": "3.11.3"
  },
  "orig_nbformat": 4
 },
 "nbformat": 4,
 "nbformat_minor": 2
}
